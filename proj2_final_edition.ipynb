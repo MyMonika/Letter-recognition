{
 "cells": [
  {
   "cell_type": "code",
   "execution_count": 1,
   "metadata": {},
   "outputs": [],
   "source": [
    "import numpy as np\n",
    "import pandas as pd\n",
    "import cv2 as cv\n",
    "from sklearn.feature_selection import SelectFromModel\n",
    "from sklearn.ensemble import GradientBoostingClassifier\n",
    "from sklearn.ensemble import VotingClassifier\n",
    "import sys\n",
    "import os\n",
    "from sklearn.svm import SVC\n",
    "from sklearn.ensemble import BaggingClassifier\n",
    "from sklearn.datasets import make_classification\n",
    "from sklearn.ensemble import RandomForestClassifier\n",
    "import pickle as pkl\n",
    "from sklearn.model_selection import train_test_split\n",
    "from sklearn.model_selection import GridSearchCV\n",
    "from sklearn.metrics import f1_score\n",
    "from sklearn.metrics import accuracy_score\n",
    "import time"
   ]
  },
  {
   "cell_type": "code",
   "execution_count": 2,
   "metadata": {},
   "outputs": [],
   "source": [
    "def getimg(image):#get the cut image \n",
    "    width = 0\n",
    "    \n",
    "    gray = cv.cvtColor(image, cv.COLOR_BGR2GRAY)\n",
    "    blur = cv.GaussianBlur(gray, (5,5), 0)\n",
    "    thresh = cv.adaptiveThreshold(blur, 255, 1, 1, 11, 2)\n",
    "    contours, _ = cv.findContours(thresh, cv.RETR_TREE, cv.CHAIN_APPROX_SIMPLE)\n",
    "    max_area = 3500\n",
    "    c = 0\n",
    "    global img_cut\n",
    "    for i in contours:\n",
    "            area = cv.contourArea(i)\n",
    "            if area > max_area:\n",
    "                max_area = area\n",
    "                best_cnt = i\n",
    "                x, y, w, h = cv.boundingRect(best_cnt)\n",
    "                # For critical points coordinates\n",
    "                topleft = [x,y]\n",
    "                topright = [x+w,y]\n",
    "                downleft = [x,y+h]\n",
    "                downright = [x+w,y+h]\n",
    "                cv.rectangle(image,(x,y),(x+w,y+h),(0,255,0),6)\n",
    "                try: #if import error, skip it\n",
    "                    img_cut = image[y+width:y+h-width,x+width:x+w-width]\n",
    "                except UnboundLocalError:\n",
    "                    pass\n",
    "\n",
    "                cv.waitKey(0)\n",
    "    \n",
    "    return preprocess(img_cut)#call the preprocess to get the data"
   ]
  },
  {
   "cell_type": "code",
   "execution_count": 4,
   "metadata": {},
   "outputs": [],
   "source": [
    "def preprocess(image):#preprocess\n",
    "    \n",
    "    edges=cv.Canny(image,70,70) #canny edge detection\n",
    "    #Sobel\n",
    "    x = cv.Sobel(edges, cv.CV_16S, 1, 0) #Gray weighted difference between left and right adjacent points\n",
    "    y = cv.Sobel(edges, cv.CV_16S, 0, 1) #Gray weighted difference of upper and lower adjacent points\n",
    "    absX = cv.convertScaleAbs(x) #Converts to an unsigned 8-bit type.\n",
    "    absY = cv.convertScaleAbs(y)\n",
    "    dst = cv.addWeighted(absX, 0.5, absY, 0.5, 0)#overlap\n",
    "    \n",
    "    #Adaptive threshold binarization\n",
    "    image = cv.adaptiveThreshold(dst, 255, cv.ADAPTIVE_THRESH_GAUSSIAN_C, cv.THRESH_BINARY, 25, 3)\n",
    "    \n",
    "    #reshape the image\n",
    "    image=cv.resize(image,(30,30))\n",
    "    image=image.ravel() #flatting the two-dimensional matrix into one-dimensional matrix\n",
    "    image[image>10]=1\n",
    "    \n",
    "    return image"
   ]
  },
  {
   "cell_type": "code",
   "execution_count": 5,
   "metadata": {},
   "outputs": [],
   "source": [
    "def svc_model(X, y):\n",
    "\n",
    "    # grid search range\n",
    "    # kernel_range : ['rbf', 'linear']\n",
    "    # C_range : [0.001, 0.01, 0.1]\n",
    "    \n",
    "    # the best parameters: kernel (linear), C = 0.01\n",
    "    kernel_range = ['linear']\n",
    "    C_range = [0.01]\n",
    "    \n",
    "    param_grid = dict(kernel=kernel_range, C=C_range)\n",
    "\n",
    "    # GridsearchCV\n",
    "    clf = SVC()\n",
    "    grid = GridSearchCV(clf, param_grid, cv=10, scoring='accuracy')\n",
    "    grid.fit(X, y)\n",
    "\n",
    "    return grid.best_estimator_, grid.best_params_"
   ]
  },
  {
   "cell_type": "code",
   "execution_count": 6,
   "metadata": {},
   "outputs": [],
   "source": [
    "def random_forest_model(X, y):\n",
    "\n",
    "    # grid search range\n",
    "    # max_features_range : range(10, 31, 10)\n",
    "    # max_depth_range : range(8, 13, 2)\n",
    "    \n",
    "    #the best parameter: max_depth = 10, max_feature = 30\n",
    "    max_features_range = [30]\n",
    "    max_depth_range = [10]\n",
    "    \n",
    "    param_grid = dict(max_features=max_features_range, max_depth=max_depth_range)\n",
    "\n",
    "    # GridsearchCV\n",
    "    clf = RandomForestClassifier(n_estimators=100)\n",
    "    grid = GridSearchCV(clf, param_grid, cv=10, scoring='accuracy')\n",
    "    grid.fit(X, y)\n",
    "\n",
    "    return grid.best_estimator_, grid.best_params_"
   ]
  },
  {
   "cell_type": "code",
   "execution_count": 7,
   "metadata": {},
   "outputs": [],
   "source": [
    "def gradient_boosting_model(X, y):\n",
    "\n",
    "    # grid search range\n",
    "    # max_depth_range = range(1, 8, 2)\n",
    "    \n",
    "    #The best parameter: max_depth = 5\n",
    "    max_depth_range = [5]\n",
    "    \n",
    "    param_grid = dict(max_depth=max_depth_range)\n",
    "\n",
    "    # GridsearchCV\n",
    "    clf = GradientBoostingClassifier(n_estimators=100)\n",
    "    grid = GridSearchCV(clf, param_grid, cv=10, scoring='accuracy')\n",
    "    grid.fit(X, y)\n",
    "\n",
    "    return grid.best_estimator_, grid.best_params_"
   ]
  },
  {
   "cell_type": "code",
   "execution_count": 8,
   "metadata": {},
   "outputs": [],
   "source": [
    "def model_train_and_evaluation(X_train, y_train, X_test, y_test, model):\n",
    "\n",
    "    start1 = time.time()\n",
    "\n",
    "    # model selection\n",
    "    if model == 'svm':\n",
    "        # bagging base on svm\n",
    "        base_svm, base_params = svc_model(X_train, y_train)\n",
    "        clf = BaggingClassifier(base_estimator=base_svm, n_estimators=10, random_state=0).fit(X_train, y_train)\n",
    "        params = clf.get_params()\n",
    "    elif model == 'rf':\n",
    "        # random forest\n",
    "        clf, params = random_forest_model(X_train, y_train)\n",
    "    elif model == 'gb':\n",
    "        # adaboost base on decision tree\n",
    "        clf, params = gradient_boosting_model(X_train, y_train)\n",
    "    elif model == 'vc':\n",
    "        clf1 = BaggingClassifier(base_estimator=SVC(kernel='linear', C=0.01), n_estimators=10, random_state=0)\n",
    "        clf2 = RandomForestClassifier(n_estimators=100, max_depth = 10, max_features = 30)\n",
    "        clf3 = GradientBoostingClassifier(n_estimators=100, max_depth = 5)\n",
    "        #voting classifier\n",
    "        clf = VotingClassifier(estimators=[('svm',clf1),('rf',clf2),('gb',clf3)],voting='hard').fit(X_train,y_train)\n",
    "        params = clf.get_params()\n",
    "    \n",
    "    #print the score\n",
    "    #record the time\n",
    "    end1 = time.time()\n",
    "    print('\\n')\n",
    "    print(clf)\n",
    "    print('Training Time: ', end1 - start1)\n",
    "    \n",
    "    start2 = time.time()\n",
    "    \n",
    "    y_pred = clf.predict(X_test)\n",
    "    \n",
    "    end2 = time.time()\n",
    "    \n",
    "    print('Predict Time: ', end2 - start2)\n",
    "    \n",
    "    # model evaluation\n",
    "    print(params)\n",
    "    print('Accuracy:\\t', accuracy_score(y_test, y_pred))\n",
    "    print('F1 score:\\t', f1_score(y_test, y_pred, average='macro'))\n",
    "    \n",
    "    return clf\n"
   ]
  },
  {
   "cell_type": "code",
   "execution_count": 9,
   "metadata": {},
   "outputs": [],
   "source": [
    "\n",
    "\n",
    "img_mat=[]# img container\n",
    "\n",
    "#Process all images under this path\n",
    "file_pathname=[\"./TrainData/A\",\"./TrainData/B\",\"./TrainData/C\",\"./TrainData/D\"]\n",
    "for i in range(4):\n",
    "    for filename in os.listdir(file_pathname[i]):\n",
    "        img = cv.imread(file_pathname[i]+'/'+filename)\n",
    "        pre_img = getimg(img)\n",
    "        pre_ravel = pre_img.ravel()\n",
    "        list1 = list(pre_ravel)\n",
    "        list1.append(i+1)\n",
    "        pre_ravel = np.array(list1)\n",
    "        img_mat.append(pre_ravel)"
   ]
  },
  {
   "cell_type": "code",
   "execution_count": 10,
   "metadata": {},
   "outputs": [
    {
     "data": {
      "text/plain": [
       "(1240, 901)"
      ]
     },
     "execution_count": 10,
     "metadata": {},
     "output_type": "execute_result"
    }
   ],
   "source": [
    "data = pd.DataFrame(img_mat)"
   ]
  },
  {
   "cell_type": "code",
   "execution_count": 12,
   "metadata": {},
   "outputs": [],
   "source": [
    "data[data>10]=1;"
   ]
  },
  {
   "cell_type": "code",
   "execution_count": 14,
   "metadata": {},
   "outputs": [],
   "source": [
    "#split the labels and features\n",
    "X = data.iloc[:, 0:900]\n",
    "y = data.iloc[:,[900]]"
   ]
  },
  {
   "cell_type": "code",
   "execution_count": 15,
   "metadata": {},
   "outputs": [],
   "source": [
    "y=y.values.ravel() #change the format "
   ]
  },
  {
   "cell_type": "code",
   "execution_count": 16,
   "metadata": {},
   "outputs": [],
   "source": [
    "# separate feature and label\n",
    "X_train, X_test, y_train, y_test = train_test_split(X, y, test_size=0.25)"
   ]
  },
  {
   "cell_type": "code",
   "execution_count": 17,
   "metadata": {},
   "outputs": [
    {
     "name": "stdout",
     "output_type": "stream",
     "text": [
      "\n",
      "\n",
      "BaggingClassifier(base_estimator=SVC(C=0.01, kernel='linear'), random_state=0)\n",
      "Training Time:  8.344329595565796\n",
      "Predict Time:  1.0412163734436035\n",
      "{'base_estimator__C': 0.01, 'base_estimator__break_ties': False, 'base_estimator__cache_size': 200, 'base_estimator__class_weight': None, 'base_estimator__coef0': 0.0, 'base_estimator__decision_function_shape': 'ovr', 'base_estimator__degree': 3, 'base_estimator__gamma': 'scale', 'base_estimator__kernel': 'linear', 'base_estimator__max_iter': -1, 'base_estimator__probability': False, 'base_estimator__random_state': None, 'base_estimator__shrinking': True, 'base_estimator__tol': 0.001, 'base_estimator__verbose': False, 'base_estimator': SVC(C=0.01, kernel='linear'), 'bootstrap': True, 'bootstrap_features': False, 'max_features': 1.0, 'max_samples': 1.0, 'n_estimators': 10, 'n_jobs': None, 'oob_score': False, 'random_state': 0, 'verbose': 0, 'warm_start': False}\n",
      "Accuracy:\t 0.9419354838709677\n",
      "F1 score:\t 0.9393368559830951\n",
      "\n",
      "\n",
      "RandomForestClassifier(max_depth=10, max_features=30)\n",
      "Training Time:  2.2797505855560303\n",
      "Predict Time:  0.01496124267578125\n",
      "{'max_depth': 10, 'max_features': 30}\n",
      "Accuracy:\t 0.9709677419354839\n",
      "F1 score:\t 0.9708100753616864\n",
      "\n",
      "\n",
      "GradientBoostingClassifier(max_depth=5)\n",
      "Training Time:  142.29982948303223\n",
      "Predict Time:  0.008975505828857422\n",
      "{'max_depth': 5}\n",
      "Accuracy:\t 0.9741935483870968\n",
      "F1 score:\t 0.9730825864867982\n",
      "\n",
      "\n",
      "VotingClassifier(estimators=[('svm',\n",
      "                              BaggingClassifier(base_estimator=SVC(C=0.01,\n",
      "                                                                   kernel='linear'),\n",
      "                                                random_state=0)),\n",
      "                             ('rf',\n",
      "                              RandomForestClassifier(max_depth=10,\n",
      "                                                     max_features=30)),\n",
      "                             ('gb', GradientBoostingClassifier(max_depth=5))])\n",
      "Training Time:  16.944738149642944\n",
      "Predict Time:  1.0741474628448486\n",
      "{'estimators': [('svm', BaggingClassifier(base_estimator=SVC(C=0.01, kernel='linear'), random_state=0)), ('rf', RandomForestClassifier(max_depth=10, max_features=30)), ('gb', GradientBoostingClassifier(max_depth=5))], 'flatten_transform': True, 'n_jobs': None, 'verbose': False, 'voting': 'hard', 'weights': None, 'svm': BaggingClassifier(base_estimator=SVC(C=0.01, kernel='linear'), random_state=0), 'rf': RandomForestClassifier(max_depth=10, max_features=30), 'gb': GradientBoostingClassifier(max_depth=5), 'svm__base_estimator__C': 0.01, 'svm__base_estimator__break_ties': False, 'svm__base_estimator__cache_size': 200, 'svm__base_estimator__class_weight': None, 'svm__base_estimator__coef0': 0.0, 'svm__base_estimator__decision_function_shape': 'ovr', 'svm__base_estimator__degree': 3, 'svm__base_estimator__gamma': 'scale', 'svm__base_estimator__kernel': 'linear', 'svm__base_estimator__max_iter': -1, 'svm__base_estimator__probability': False, 'svm__base_estimator__random_state': None, 'svm__base_estimator__shrinking': True, 'svm__base_estimator__tol': 0.001, 'svm__base_estimator__verbose': False, 'svm__base_estimator': SVC(C=0.01, kernel='linear'), 'svm__bootstrap': True, 'svm__bootstrap_features': False, 'svm__max_features': 1.0, 'svm__max_samples': 1.0, 'svm__n_estimators': 10, 'svm__n_jobs': None, 'svm__oob_score': False, 'svm__random_state': 0, 'svm__verbose': 0, 'svm__warm_start': False, 'rf__bootstrap': True, 'rf__ccp_alpha': 0.0, 'rf__class_weight': None, 'rf__criterion': 'gini', 'rf__max_depth': 10, 'rf__max_features': 30, 'rf__max_leaf_nodes': None, 'rf__max_samples': None, 'rf__min_impurity_decrease': 0.0, 'rf__min_impurity_split': None, 'rf__min_samples_leaf': 1, 'rf__min_samples_split': 2, 'rf__min_weight_fraction_leaf': 0.0, 'rf__n_estimators': 100, 'rf__n_jobs': None, 'rf__oob_score': False, 'rf__random_state': None, 'rf__verbose': 0, 'rf__warm_start': False, 'gb__ccp_alpha': 0.0, 'gb__criterion': 'friedman_mse', 'gb__init': None, 'gb__learning_rate': 0.1, 'gb__loss': 'deviance', 'gb__max_depth': 5, 'gb__max_features': None, 'gb__max_leaf_nodes': None, 'gb__min_impurity_decrease': 0.0, 'gb__min_impurity_split': None, 'gb__min_samples_leaf': 1, 'gb__min_samples_split': 2, 'gb__min_weight_fraction_leaf': 0.0, 'gb__n_estimators': 100, 'gb__n_iter_no_change': None, 'gb__presort': 'deprecated', 'gb__random_state': None, 'gb__subsample': 1.0, 'gb__tol': 0.0001, 'gb__validation_fraction': 0.1, 'gb__verbose': 0, 'gb__warm_start': False}\n",
      "Accuracy:\t 0.9741935483870968\n",
      "F1 score:\t 0.9736952572150782\n"
     ]
    }
   ],
   "source": [
    "classifiers = ['svm', 'rf', 'gb', 'vc'] #'svm', 'rf', 'gb'\n",
    "\n",
    "#training the classifier and export the model \n",
    "for clf in classifiers:\n",
    "    model = model_train_and_evaluation(X_train, y_train, X_test, y_test, clf)\n",
    "    \n",
    "    f = open(\"./pkl/\"+clf+'.pkl', 'wb')\n",
    "    pkl.dump(model, f)\n",
    "    f.close()\n"
   ]
  }
 ],
 "metadata": {
  "kernelspec": {
   "display_name": "Python 3",
   "language": "python",
   "name": "python3"
  },
  "language_info": {
   "codemirror_mode": {
    "name": "ipython",
    "version": 3
   },
   "file_extension": ".py",
   "mimetype": "text/x-python",
   "name": "python",
   "nbconvert_exporter": "python",
   "pygments_lexer": "ipython3",
   "version": "3.8.3"
  }
 },
 "nbformat": 4,
 "nbformat_minor": 2
}
